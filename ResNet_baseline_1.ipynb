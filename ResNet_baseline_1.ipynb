{
 "cells": [
  {
   "cell_type": "markdown",
   "metadata": {
    "id": "EpbNCzZjvWBX"
   },
   "source": [
    "# Mount Google Drive"
   ]
  },
  {
   "cell_type": "code",
   "execution_count": null,
   "metadata": {
    "colab": {
     "base_uri": "https://localhost:8080/",
     "height": 53
    },
    "executionInfo": {
     "elapsed": 20901,
     "status": "ok",
     "timestamp": 1640569359763,
     "user": {
      "displayName": "Taiwa Komatsu",
      "photoUrl": "https://lh3.googleusercontent.com/a/default-user=s64",
      "userId": "16056462955964888513"
     },
     "user_tz": -540
    },
    "id": "cvWHUt4JvTCH",
    "outputId": "3d914240-4dc8-4e47-a4ec-946dbded8070"
   },
   "outputs": [],
   "source": [
    "from google.colab import drive\n",
    "drive.mount('/content/drive')\n",
    "%pwd"
   ]
  },
  {
   "cell_type": "code",
   "execution_count": null,
   "metadata": {
    "colab": {
     "base_uri": "https://localhost:8080/"
    },
    "executionInfo": {
     "elapsed": 13,
     "status": "ok",
     "timestamp": 1640569359763,
     "user": {
      "displayName": "Taiwa Komatsu",
      "photoUrl": "https://lh3.googleusercontent.com/a/default-user=s64",
      "userId": "16056462955964888513"
     },
     "user_tz": -540
    },
    "id": "uGOPOmEHlXfi",
    "outputId": "9810ea73-f9de-4897-f170-8597d8d9d916"
   },
   "outputs": [],
   "source": [
    "!nvidia-smi"
   ]
  },
  {
   "cell_type": "markdown",
   "metadata": {
    "id": "GL5kynvAvpK7"
   },
   "source": [
    "# Import libraries\n"
   ]
  },
  {
   "cell_type": "code",
   "execution_count": null,
   "metadata": {
    "id": "uy423CR4unSZ"
   },
   "outputs": [],
   "source": [
    "import numpy as np\n",
    "import pandas as pd\n",
    "import matplotlib.pyplot as plt\n",
    "import os\n",
    "import shutil\n",
    "\n",
    "import torch\n",
    "from torch import optim, nn\n",
    "from torch.utils.data import DataLoader, TensorDataset, Dataset\n",
    "from torchvision.utils import make_grid\n",
    "from torchvision import transforms as T\n",
    "from torch.optim import lr_scheduler\n",
    "import torchvision.datasets as datasets\n",
    "import torchvision.models as models"
   ]
  },
  {
   "cell_type": "markdown",
   "metadata": {
    "id": "yx1u7shGwV_a"
   },
   "source": [
    "# Define device (GPU or CPU)"
   ]
  },
  {
   "cell_type": "code",
   "execution_count": null,
   "metadata": {
    "colab": {
     "base_uri": "https://localhost:8080/"
    },
    "executionInfo": {
     "elapsed": 13,
     "status": "ok",
     "timestamp": 1640569365372,
     "user": {
      "displayName": "Taiwa Komatsu",
      "photoUrl": "https://lh3.googleusercontent.com/a/default-user=s64",
      "userId": "16056462955964888513"
     },
     "user_tz": -540
    },
    "id": "-ZrZIJEBwMgc",
    "outputId": "450e2312-4fcd-4750-f56c-3e751698f655"
   },
   "outputs": [],
   "source": [
    "use_cuda = torch.cuda.is_available()\n",
    "device = torch.device(\"cuda\" if use_cuda else \"cpu\")\n",
    "print(device)"
   ]
  },
  {
   "cell_type": "markdown",
   "metadata": {
    "id": "3S-T08BR2Eyu"
   },
   "source": [
    "# Download Tiny ImageNet data"
   ]
  },
  {
   "cell_type": "code",
   "execution_count": null,
   "metadata": {
    "colab": {
     "base_uri": "https://localhost:8080/"
    },
    "executionInfo": {
     "elapsed": 12,
     "status": "ok",
     "timestamp": 1640569365372,
     "user": {
      "displayName": "Taiwa Komatsu",
      "photoUrl": "https://lh3.googleusercontent.com/a/default-user=s64",
      "userId": "16056462955964888513"
     },
     "user_tz": -540
    },
    "id": "AUSdVjzL2giz",
    "outputId": "8a12703c-8a0f-4929-9c7c-f843f91451d3"
   },
   "outputs": [],
   "source": [
    "if 'tiny-imagenet-200' in os.listdir():\n",
    "  shutil.rmtree('tiny-imagenet-200')\n",
    "else:\n",
    "  print('tiny-imagenet-200 not existed')\n",
    "  \n",
    "if 'tiny-imagenet-200.zip' in os.listdir():\n",
    "  os.remove('tiny-imagenet-200.zip')\n",
    "else:\n",
    "  print('tiny-imagenet-200.zip not existed')"
   ]
  },
  {
   "cell_type": "code",
   "execution_count": null,
   "metadata": {
    "colab": {
     "base_uri": "https://localhost:8080/"
    },
    "executionInfo": {
     "elapsed": 25720,
     "status": "ok",
     "timestamp": 1640569391083,
     "user": {
      "displayName": "Taiwa Komatsu",
      "photoUrl": "https://lh3.googleusercontent.com/a/default-user=s64",
      "userId": "16056462955964888513"
     },
     "user_tz": -540
    },
    "id": "6GA3A6X42FCM",
    "outputId": "fb5a4a04-9271-45fb-c14c-74eb0e9fa3b0"
   },
   "outputs": [],
   "source": [
    "# Download\n",
    "!wget http://cs231n.stanford.edu/tiny-imagenet-200.zip\n",
    "  \n",
    "# Unzip\n",
    "!unzip -qq 'tiny-imagenet-200.zip'"
   ]
  },
  {
   "cell_type": "markdown",
   "metadata": {
    "id": "Mc9Co46nwqAA"
   },
   "source": [
    "# Define directory"
   ]
  },
  {
   "cell_type": "code",
   "execution_count": null,
   "metadata": {
    "id": "RHYEiw1wwMmH"
   },
   "outputs": [],
   "source": [
    "# Define main data directory\n",
    "DATA_DIR = 'tiny-imagenet-200' # Original images come in shapes of [3,64,64]\n",
    "\n",
    "# Define training and validation data paths\n",
    "TRAIN_DIR = os.path.join(DATA_DIR, 'train') \n",
    "VALID_DIR = os.path.join(DATA_DIR, 'val')"
   ]
  },
  {
   "cell_type": "markdown",
   "metadata": {
    "id": "831AoLlvx44u"
   },
   "source": [
    "# Create validation labels from val_annotations txt file"
   ]
  },
  {
   "cell_type": "code",
   "execution_count": null,
   "metadata": {
    "colab": {
     "base_uri": "https://localhost:8080/"
    },
    "executionInfo": {
     "elapsed": 7,
     "status": "ok",
     "timestamp": 1640569391084,
     "user": {
      "displayName": "Taiwa Komatsu",
      "photoUrl": "https://lh3.googleusercontent.com/a/default-user=s64",
      "userId": "16056462955964888513"
     },
     "user_tz": -540
    },
    "id": "5tch45unxyrz",
    "outputId": "784383b1-ae47-4719-9db4-daa39ff12905"
   },
   "outputs": [],
   "source": [
    "val_img_dir = os.path.join(VALID_DIR, 'images')\n",
    "\n",
    "# Open and read val annotations text file\n",
    "fp = open(os.path.join(VALID_DIR, 'val_annotations.txt'), 'r')\n",
    "data = fp.readlines()\n",
    "\n",
    "val_img_dict = {}\n",
    "for line in data:\n",
    "    words = line.split('\\t')\n",
    "    val_img_dict[words[0]] = words[1]\n",
    "fp.close()\n",
    "\n",
    "# Show val_imgdict (first 4)\n",
    "for i, (k, v) in enumerate(val_img_dict.items()):\n",
    "  print(k, \":\", v)\n",
    "  if i == 4:\n",
    "    break"
   ]
  },
  {
   "cell_type": "markdown",
   "metadata": {
    "id": "imt3Ou2n3tbT"
   },
   "source": [
    "# Create subfolders (if not present)"
   ]
  },
  {
   "cell_type": "code",
   "execution_count": null,
   "metadata": {
    "id": "OLO3w_bn3svu"
   },
   "outputs": [],
   "source": [
    "for img, folder in val_img_dict.items():\n",
    "    newpath = (os.path.join(val_img_dir, folder))\n",
    "    if not os.path.exists(newpath):\n",
    "        os.makedirs(newpath)\n",
    "    if os.path.exists(os.path.join(val_img_dir, img)):\n",
    "        os.rename(os.path.join(val_img_dir, img), os.path.join(newpath, img))"
   ]
  },
  {
   "cell_type": "markdown",
   "metadata": {
    "id": "DbopQKmMznzk"
   },
   "source": [
    "# Define transformation sequence"
   ]
  },
  {
   "cell_type": "code",
   "execution_count": null,
   "metadata": {
    "id": "zRgLUuJSxy25"
   },
   "outputs": [],
   "source": [
    "# If not using pre-trained model, normalize with 0.5, 0.5, 0.5 (mean and SD)\n",
    "# If using pre-trained ImageNet, normalize with mean=[0.485, 0.456, 0.406], std=[0.229, 0.224, 0.225])\n",
    "preprocess_transform = T.Compose([\n",
    "                                  T.Resize(256), \n",
    "                                  T.CenterCrop(224), \n",
    "                                  T.RandomHorizontalFlip(),\n",
    "                                  T.ToTensor(),  \n",
    "                                  T.Normalize(mean=[0.485, 0.456, 0.406], std=[0.229, 0.224, 0.225])\n",
    "])\n",
    "\n",
    "preprocess_transform_validation = T.Compose([\n",
    "                                             T.Resize(256), \n",
    "                                             T.CenterCrop(224), \n",
    "                                             T.ToTensor(),  \n",
    "                                             T.Normalize(mean=[0.485, 0.456, 0.406], std=[0.229, 0.224, 0.225])\n",
    "])"
   ]
  },
  {
   "cell_type": "markdown",
   "metadata": {
    "id": "t_mVJaCVTK4Z"
   },
   "source": [
    "# Define function to create dataloaders"
   ]
  },
  {
   "cell_type": "code",
   "execution_count": null,
   "metadata": {
    "id": "8cmx6WzHTLDf"
   },
   "outputs": [],
   "source": [
    "def generate_dataset(data, transform):\n",
    "    if transform is None:\n",
    "        dataset = datasets.ImageFolder(data, transform = T.ToTensor())\n",
    "    else:\n",
    "        dataset = datasets.ImageFolder(data, transform = transform)\n",
    "    \n",
    "    return dataset\n",
    "\n",
    "def generate_dataloader(dataset, name):\n",
    "    if use_cuda:\n",
    "        kwargs = {\"pin_memory\": True, \"num_workers\": 1}\n",
    "    else:\n",
    "        kwargs = {}\n",
    "\n",
    "    dataloader = DataLoader(dataset, batch_size = batch_size, shuffle=(name==\"train\"), **kwargs)   \n",
    "\n",
    "    return dataloader"
   ]
  },
  {
   "cell_type": "markdown",
   "metadata": {
    "id": "_plhixVB0dwg"
   },
   "source": [
    "# Create dataloader"
   ]
  },
  {
   "cell_type": "code",
   "execution_count": null,
   "metadata": {
    "id": "p_0PneyzUFTF"
   },
   "outputs": [],
   "source": [
    "# Define batch size for DataLoaders\n",
    "batch_size = 128\n",
    "\n",
    "# Create DataLoader for training data\n",
    "train_dataset = generate_dataset(TRAIN_DIR, preprocess_transform)\n",
    "train_loader = generate_dataloader(train_dataset, \"train\")\n",
    "\n",
    "# Create DataLoader for validation data\n",
    "val_dataset = generate_dataset(val_img_dir, preprocess_transform_validation)\n",
    "val_loader = generate_dataloader(val_dataset, \"validation\")"
   ]
  },
  {
   "cell_type": "markdown",
   "metadata": {
    "id": "3Vo2RfE-4TyT"
   },
   "source": [
    "# Define model architecture"
   ]
  },
  {
   "cell_type": "code",
   "execution_count": null,
   "metadata": {
    "colab": {
     "base_uri": "https://localhost:8080/",
     "height": 66,
     "referenced_widgets": [
      "f2f722e78a7d4d2eaf999bab7adbac2e",
      "15d9597f9b464979803071b68db5b988",
      "86a68ba0a8114ecfb41ae4d72b50b7ba",
      "86858d0b6fa64c87803949c43aa981db",
      "5654bc8256a24ff1a585a07dd390363c",
      "34c3444d5c764667aa6125e3ae673a6d",
      "80c4d55cf01a4bc4b7d53d0c93598758",
      "c9989f127cf347269475146d501ef0a9",
      "995054199d12470ba054a2194f18a2be",
      "29e23e4ea63b4bfda89bc3c556f7c92d",
      "f0063933189f43228ca12f7e89c63974"
     ]
    },
    "executionInfo": {
     "elapsed": 13580,
     "status": "ok",
     "timestamp": 1640569405757,
     "user": {
      "displayName": "Taiwa Komatsu",
      "photoUrl": "https://lh3.googleusercontent.com/a/default-user=s64",
      "userId": "16056462955964888513"
     },
     "user_tz": -540
    },
    "id": "wpKGrx5szYlo",
    "outputId": "3a4dc689-f0f1-4aa7-c7f7-b9844207c9fe"
   },
   "outputs": [],
   "source": [
    "model = models.resnet18(pretrained = True)\n",
    "\n",
    "#Finetune Final few layers to adjust for tiny imagenet input\n",
    "num_ftrs = model.fc.in_features\n",
    "model.fc = nn.Linear(num_ftrs, 200)\n",
    "\n",
    "# Move model to designated device (Use GPU when on Colab)\n",
    "model = model.to(device)"
   ]
  },
  {
   "cell_type": "markdown",
   "metadata": {
    "id": "j24cCyNi6UTh"
   },
   "source": [
    "# Define hyperparameters and settings"
   ]
  },
  {
   "cell_type": "code",
   "execution_count": null,
   "metadata": {
    "id": "HK9P3KU5xy6R"
   },
   "outputs": [],
   "source": [
    "lr = 0.001  # Learning rate\n",
    "momentum = 0.9 # Momentum\n",
    "num_epochs = 30  # Number of epochs\n",
    "log_interval = 500  # Number of iterations before logging\n",
    "step_size = 7 # for lr_scheduler\n",
    "gamma = 0.1 # for lr_scheduler\n",
    "\n",
    "# Set loss function\n",
    "loss_func = nn.CrossEntropyLoss()\n",
    "\n",
    "# Set optimizer\n",
    "optimizer = optim.SGD(model.parameters(), lr = lr, momentum = momentum)\n",
    "scheduler = lr_scheduler.StepLR(optimizer, step_size = step_size, gamma = gamma)"
   ]
  },
  {
   "cell_type": "markdown",
   "metadata": {
    "id": "4ciAyXQ16x1M"
   },
   "source": [
    "# Trainning"
   ]
  },
  {
   "cell_type": "code",
   "execution_count": null,
   "metadata": {
    "colab": {
     "base_uri": "https://localhost:8080/"
    },
    "executionInfo": {
     "elapsed": 8279482,
     "status": "ok",
     "timestamp": 1640577685236,
     "user": {
      "displayName": "Taiwa Komatsu",
      "photoUrl": "https://lh3.googleusercontent.com/a/default-user=s64",
      "userId": "16056462955964888513"
     },
     "user_tz": -540
    },
    "id": "AeOOcP4s6lZ2",
    "outputId": "88a2621e-4b39-45b4-862b-39268c0f92e9"
   },
   "outputs": [],
   "source": [
    "%%time\n",
    "\n",
    "loss_list = []\n",
    "val_accuracy_list = []\n",
    "best_accuracy = 0\n",
    "model_name = 'ResNet18_baseline_model.pth'\n",
    "\n",
    "for epoch in range(1, num_epochs+1):\n",
    "    \n",
    "    # Training step\n",
    "    model.train()\n",
    "    for i, (input_images, labels) in enumerate(train_loader):\n",
    "\n",
    "        input_images = input_images.to(device)\n",
    "        labels = labels.to(device)\n",
    "\n",
    "        predicted_values = model(input_images)\n",
    "        loss = loss_func(predicted_values, labels)\n",
    "        \n",
    "        optimizer.zero_grad()\n",
    "        loss.backward()\n",
    "        optimizer.step()\n",
    "\n",
    "        loss_list.append(loss.detach())\n",
    "     \n",
    "    scheduler.step()\n",
    "\n",
    "    # Validation step\n",
    "    model.eval()\n",
    "    correct = 0\n",
    "    total = 0\n",
    "\n",
    "    with torch.no_grad():\n",
    "        for input_images, labels in val_loader:\n",
    "\n",
    "            input_images = input_images.to(device)\n",
    "            labels = labels.to(device)\n",
    "\n",
    "            predicted_values = model(input_images)\n",
    "            _, predicted_labels = torch.max(predicted_values.data, 1)\n",
    "\n",
    "            total += labels.shape[0]\n",
    "            correct += (predicted_labels == labels).sum().item()\n",
    "\n",
    "    current_accuracy = (correct/total)*100\n",
    "    val_accuracy_list.append(current_accuracy)\n",
    "    print(\"Accuracy of epoch\", epoch, \"is\", f\"{current_accuracy:.3f}%\")\n",
    "\n",
    "    # Save model\n",
    "    if current_accuracy > best_accuracy:\n",
    "        torch.save(model.state_dict(), model_name)\n",
    "        best_accuracy = current_accuracy\n",
    "        print('Model of epoch', epoch, 'was saved.')\n",
    "    else:\n",
    "        print('Model was not saved.')\n",
    "\n",
    "print(\" --------------- Train complete ---------------\")"
   ]
  },
  {
   "cell_type": "markdown",
   "metadata": {
    "id": "8ZqBAI0e58kC"
   },
   "source": [
    "# Plot loss values"
   ]
  },
  {
   "cell_type": "code",
   "execution_count": null,
   "metadata": {
    "colab": {
     "base_uri": "https://localhost:8080/",
     "height": 279
    },
    "executionInfo": {
     "elapsed": 870,
     "status": "ok",
     "timestamp": 1640577719581,
     "user": {
      "displayName": "Taiwa Komatsu",
      "photoUrl": "https://lh3.googleusercontent.com/a/default-user=s64",
      "userId": "16056462955964888513"
     },
     "user_tz": -540
    },
    "id": "DK7ErSzFaY98",
    "outputId": "65134b10-de04-43dd-d5ae-6018620e726b"
   },
   "outputs": [],
   "source": [
    "fig, ax = plt.subplots(1, 2, figsize = (12, 4))\n",
    "\n",
    "ax[0].plot(loss_list)\n",
    "ax[0].set_xlabel(\"Iteration\")\n",
    "ax[0].set_ylabel('Training loss value')\n",
    "\n",
    "ax[1].plot(val_accuracy_list)\n",
    "ax[1].set_xlabel(\"Epoch\")\n",
    "ax[1].set_ylabel('Validation accuracy')\n",
    "\n",
    "plt.show()"
   ]
  },
  {
   "cell_type": "markdown",
   "metadata": {
    "id": "oMDcsuXd6JHi"
   },
   "source": [
    "# Save model to Google Drive"
   ]
  },
  {
   "cell_type": "code",
   "execution_count": null,
   "metadata": {
    "colab": {
     "base_uri": "https://localhost:8080/",
     "height": 35
    },
    "executionInfo": {
     "elapsed": 471,
     "status": "ok",
     "timestamp": 1640577734133,
     "user": {
      "displayName": "Taiwa Komatsu",
      "photoUrl": "https://lh3.googleusercontent.com/a/default-user=s64",
      "userId": "16056462955964888513"
     },
     "user_tz": -540
    },
    "id": "LEClwM0_7Z5x",
    "outputId": "5bf3a4ce-74a0-4075-d1ad-763d45513ec8"
   },
   "outputs": [],
   "source": [
    "shutil.move(model_name, '/content/drive/MyDrive/work/orthgonal_constraint/' + model_name)"
   ]
  }
 ],
 "metadata": {
  "accelerator": "GPU",
  "colab": {
   "collapsed_sections": [],
   "name": "ResNet_baseline_1.ipynb",
   "provenance": []
  },
  "kernelspec": {
   "display_name": "Python 3",
   "language": "python",
   "name": "python3"
  },
  "language_info": {
   "codemirror_mode": {
    "name": "ipython",
    "version": 3
   },
   "file_extension": ".py",
   "mimetype": "text/x-python",
   "name": "python",
   "nbconvert_exporter": "python",
   "pygments_lexer": "ipython3",
   "version": "3.7.3"
  },
  "widgets": {
   "application/vnd.jupyter.widget-state+json": {
    "15d9597f9b464979803071b68db5b988": {
     "model_module": "@jupyter-widgets/base",
     "model_module_version": "1.2.0",
     "model_name": "LayoutModel",
     "state": {
      "_model_module": "@jupyter-widgets/base",
      "_model_module_version": "1.2.0",
      "_model_name": "LayoutModel",
      "_view_count": null,
      "_view_module": "@jupyter-widgets/base",
      "_view_module_version": "1.2.0",
      "_view_name": "LayoutView",
      "align_content": null,
      "align_items": null,
      "align_self": null,
      "border": null,
      "bottom": null,
      "display": null,
      "flex": null,
      "flex_flow": null,
      "grid_area": null,
      "grid_auto_columns": null,
      "grid_auto_flow": null,
      "grid_auto_rows": null,
      "grid_column": null,
      "grid_gap": null,
      "grid_row": null,
      "grid_template_areas": null,
      "grid_template_columns": null,
      "grid_template_rows": null,
      "height": null,
      "justify_content": null,
      "justify_items": null,
      "left": null,
      "margin": null,
      "max_height": null,
      "max_width": null,
      "min_height": null,
      "min_width": null,
      "object_fit": null,
      "object_position": null,
      "order": null,
      "overflow": null,
      "overflow_x": null,
      "overflow_y": null,
      "padding": null,
      "right": null,
      "top": null,
      "visibility": null,
      "width": null
     }
    },
    "29e23e4ea63b4bfda89bc3c556f7c92d": {
     "model_module": "@jupyter-widgets/controls",
     "model_module_version": "1.5.0",
     "model_name": "DescriptionStyleModel",
     "state": {
      "_model_module": "@jupyter-widgets/controls",
      "_model_module_version": "1.5.0",
      "_model_name": "DescriptionStyleModel",
      "_view_count": null,
      "_view_module": "@jupyter-widgets/base",
      "_view_module_version": "1.2.0",
      "_view_name": "StyleView",
      "description_width": ""
     }
    },
    "34c3444d5c764667aa6125e3ae673a6d": {
     "model_module": "@jupyter-widgets/controls",
     "model_module_version": "1.5.0",
     "model_name": "DescriptionStyleModel",
     "state": {
      "_model_module": "@jupyter-widgets/controls",
      "_model_module_version": "1.5.0",
      "_model_name": "DescriptionStyleModel",
      "_view_count": null,
      "_view_module": "@jupyter-widgets/base",
      "_view_module_version": "1.2.0",
      "_view_name": "StyleView",
      "description_width": ""
     }
    },
    "5654bc8256a24ff1a585a07dd390363c": {
     "model_module": "@jupyter-widgets/controls",
     "model_module_version": "1.5.0",
     "model_name": "HTMLModel",
     "state": {
      "_dom_classes": [],
      "_model_module": "@jupyter-widgets/controls",
      "_model_module_version": "1.5.0",
      "_model_name": "HTMLModel",
      "_view_count": null,
      "_view_module": "@jupyter-widgets/controls",
      "_view_module_version": "1.5.0",
      "_view_name": "HTMLView",
      "description": "",
      "description_tooltip": null,
      "layout": "IPY_MODEL_f0063933189f43228ca12f7e89c63974",
      "placeholder": "​",
      "style": "IPY_MODEL_29e23e4ea63b4bfda89bc3c556f7c92d",
      "value": " 44.7M/44.7M [00:04&lt;00:00, 7.38MB/s]"
     }
    },
    "80c4d55cf01a4bc4b7d53d0c93598758": {
     "model_module": "@jupyter-widgets/base",
     "model_module_version": "1.2.0",
     "model_name": "LayoutModel",
     "state": {
      "_model_module": "@jupyter-widgets/base",
      "_model_module_version": "1.2.0",
      "_model_name": "LayoutModel",
      "_view_count": null,
      "_view_module": "@jupyter-widgets/base",
      "_view_module_version": "1.2.0",
      "_view_name": "LayoutView",
      "align_content": null,
      "align_items": null,
      "align_self": null,
      "border": null,
      "bottom": null,
      "display": null,
      "flex": null,
      "flex_flow": null,
      "grid_area": null,
      "grid_auto_columns": null,
      "grid_auto_flow": null,
      "grid_auto_rows": null,
      "grid_column": null,
      "grid_gap": null,
      "grid_row": null,
      "grid_template_areas": null,
      "grid_template_columns": null,
      "grid_template_rows": null,
      "height": null,
      "justify_content": null,
      "justify_items": null,
      "left": null,
      "margin": null,
      "max_height": null,
      "max_width": null,
      "min_height": null,
      "min_width": null,
      "object_fit": null,
      "object_position": null,
      "order": null,
      "overflow": null,
      "overflow_x": null,
      "overflow_y": null,
      "padding": null,
      "right": null,
      "top": null,
      "visibility": null,
      "width": null
     }
    },
    "86858d0b6fa64c87803949c43aa981db": {
     "model_module": "@jupyter-widgets/controls",
     "model_module_version": "1.5.0",
     "model_name": "FloatProgressModel",
     "state": {
      "_dom_classes": [],
      "_model_module": "@jupyter-widgets/controls",
      "_model_module_version": "1.5.0",
      "_model_name": "FloatProgressModel",
      "_view_count": null,
      "_view_module": "@jupyter-widgets/controls",
      "_view_module_version": "1.5.0",
      "_view_name": "ProgressView",
      "bar_style": "success",
      "description": "",
      "description_tooltip": null,
      "layout": "IPY_MODEL_995054199d12470ba054a2194f18a2be",
      "max": 46830571,
      "min": 0,
      "orientation": "horizontal",
      "style": "IPY_MODEL_c9989f127cf347269475146d501ef0a9",
      "value": 46830571
     }
    },
    "86a68ba0a8114ecfb41ae4d72b50b7ba": {
     "model_module": "@jupyter-widgets/controls",
     "model_module_version": "1.5.0",
     "model_name": "HTMLModel",
     "state": {
      "_dom_classes": [],
      "_model_module": "@jupyter-widgets/controls",
      "_model_module_version": "1.5.0",
      "_model_name": "HTMLModel",
      "_view_count": null,
      "_view_module": "@jupyter-widgets/controls",
      "_view_module_version": "1.5.0",
      "_view_name": "HTMLView",
      "description": "",
      "description_tooltip": null,
      "layout": "IPY_MODEL_80c4d55cf01a4bc4b7d53d0c93598758",
      "placeholder": "​",
      "style": "IPY_MODEL_34c3444d5c764667aa6125e3ae673a6d",
      "value": "100%"
     }
    },
    "995054199d12470ba054a2194f18a2be": {
     "model_module": "@jupyter-widgets/base",
     "model_module_version": "1.2.0",
     "model_name": "LayoutModel",
     "state": {
      "_model_module": "@jupyter-widgets/base",
      "_model_module_version": "1.2.0",
      "_model_name": "LayoutModel",
      "_view_count": null,
      "_view_module": "@jupyter-widgets/base",
      "_view_module_version": "1.2.0",
      "_view_name": "LayoutView",
      "align_content": null,
      "align_items": null,
      "align_self": null,
      "border": null,
      "bottom": null,
      "display": null,
      "flex": null,
      "flex_flow": null,
      "grid_area": null,
      "grid_auto_columns": null,
      "grid_auto_flow": null,
      "grid_auto_rows": null,
      "grid_column": null,
      "grid_gap": null,
      "grid_row": null,
      "grid_template_areas": null,
      "grid_template_columns": null,
      "grid_template_rows": null,
      "height": null,
      "justify_content": null,
      "justify_items": null,
      "left": null,
      "margin": null,
      "max_height": null,
      "max_width": null,
      "min_height": null,
      "min_width": null,
      "object_fit": null,
      "object_position": null,
      "order": null,
      "overflow": null,
      "overflow_x": null,
      "overflow_y": null,
      "padding": null,
      "right": null,
      "top": null,
      "visibility": null,
      "width": null
     }
    },
    "c9989f127cf347269475146d501ef0a9": {
     "model_module": "@jupyter-widgets/controls",
     "model_module_version": "1.5.0",
     "model_name": "ProgressStyleModel",
     "state": {
      "_model_module": "@jupyter-widgets/controls",
      "_model_module_version": "1.5.0",
      "_model_name": "ProgressStyleModel",
      "_view_count": null,
      "_view_module": "@jupyter-widgets/base",
      "_view_module_version": "1.2.0",
      "_view_name": "StyleView",
      "bar_color": null,
      "description_width": ""
     }
    },
    "f0063933189f43228ca12f7e89c63974": {
     "model_module": "@jupyter-widgets/base",
     "model_module_version": "1.2.0",
     "model_name": "LayoutModel",
     "state": {
      "_model_module": "@jupyter-widgets/base",
      "_model_module_version": "1.2.0",
      "_model_name": "LayoutModel",
      "_view_count": null,
      "_view_module": "@jupyter-widgets/base",
      "_view_module_version": "1.2.0",
      "_view_name": "LayoutView",
      "align_content": null,
      "align_items": null,
      "align_self": null,
      "border": null,
      "bottom": null,
      "display": null,
      "flex": null,
      "flex_flow": null,
      "grid_area": null,
      "grid_auto_columns": null,
      "grid_auto_flow": null,
      "grid_auto_rows": null,
      "grid_column": null,
      "grid_gap": null,
      "grid_row": null,
      "grid_template_areas": null,
      "grid_template_columns": null,
      "grid_template_rows": null,
      "height": null,
      "justify_content": null,
      "justify_items": null,
      "left": null,
      "margin": null,
      "max_height": null,
      "max_width": null,
      "min_height": null,
      "min_width": null,
      "object_fit": null,
      "object_position": null,
      "order": null,
      "overflow": null,
      "overflow_x": null,
      "overflow_y": null,
      "padding": null,
      "right": null,
      "top": null,
      "visibility": null,
      "width": null
     }
    },
    "f2f722e78a7d4d2eaf999bab7adbac2e": {
     "model_module": "@jupyter-widgets/controls",
     "model_module_version": "1.5.0",
     "model_name": "HBoxModel",
     "state": {
      "_dom_classes": [],
      "_model_module": "@jupyter-widgets/controls",
      "_model_module_version": "1.5.0",
      "_model_name": "HBoxModel",
      "_view_count": null,
      "_view_module": "@jupyter-widgets/controls",
      "_view_module_version": "1.5.0",
      "_view_name": "HBoxView",
      "box_style": "",
      "children": [
       "IPY_MODEL_86a68ba0a8114ecfb41ae4d72b50b7ba",
       "IPY_MODEL_86858d0b6fa64c87803949c43aa981db",
       "IPY_MODEL_5654bc8256a24ff1a585a07dd390363c"
      ],
      "layout": "IPY_MODEL_15d9597f9b464979803071b68db5b988"
     }
    }
   }
  }
 },
 "nbformat": 4,
 "nbformat_minor": 4
}
