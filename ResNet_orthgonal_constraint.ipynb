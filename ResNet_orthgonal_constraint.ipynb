{
 "cells": [
  {
   "cell_type": "markdown",
   "metadata": {
    "id": "ECT8oeWXDx8u"
   },
   "source": [
    "# Mount Google Drive"
   ]
  },
  {
   "cell_type": "code",
   "execution_count": null,
   "metadata": {
    "colab": {
     "base_uri": "https://localhost:8080/",
     "height": 53
    },
    "executionInfo": {
     "elapsed": 30508,
     "status": "ok",
     "timestamp": 1641126330954,
     "user": {
      "displayName": "Taiwa Komatsu",
      "photoUrl": "https://lh3.googleusercontent.com/a/default-user=s64",
      "userId": "16056462955964888513"
     },
     "user_tz": -540
    },
    "id": "Rs5odrtBD0lP",
    "outputId": "4bab62ef-7887-4e89-b319-c852810c3c25"
   },
   "outputs": [],
   "source": [
    "from google.colab import drive\n",
    "drive.mount('/content/drive')\n",
    "%pwd"
   ]
  },
  {
   "cell_type": "code",
   "execution_count": null,
   "metadata": {
    "colab": {
     "base_uri": "https://localhost:8080/"
    },
    "executionInfo": {
     "elapsed": 14,
     "status": "ok",
     "timestamp": 1641126330955,
     "user": {
      "displayName": "Taiwa Komatsu",
      "photoUrl": "https://lh3.googleusercontent.com/a/default-user=s64",
      "userId": "16056462955964888513"
     },
     "user_tz": -540
    },
    "id": "PkMv3YNcD6BJ",
    "outputId": "86cfe10c-2f6a-42da-e1ff-5af517d69e92"
   },
   "outputs": [],
   "source": [
    "!nvidia-smi"
   ]
  },
  {
   "cell_type": "markdown",
   "metadata": {
    "id": "mQrmZfgLE4L_"
   },
   "source": [
    "# Import libraries"
   ]
  },
  {
   "cell_type": "code",
   "execution_count": null,
   "metadata": {
    "executionInfo": {
     "elapsed": 5911,
     "status": "ok",
     "timestamp": 1641126336860,
     "user": {
      "displayName": "Taiwa Komatsu",
      "photoUrl": "https://lh3.googleusercontent.com/a/default-user=s64",
      "userId": "16056462955964888513"
     },
     "user_tz": -540
    },
    "id": "2D4LUqwED_wG"
   },
   "outputs": [],
   "source": [
    "import numpy as np\n",
    "import pandas as pd\n",
    "import matplotlib.pyplot as plt\n",
    "import os\n",
    "import shutil\n",
    "\n",
    "import torch\n",
    "from torch import optim, nn\n",
    "import torch.nn.functional as F\n",
    "from torch.utils.data import DataLoader, TensorDataset, Dataset\n",
    "from torchvision.utils import make_grid\n",
    "from torchvision import transforms as T\n",
    "from torch.optim import lr_scheduler\n",
    "import torchvision.datasets as datasets\n",
    "import torchvision.models as models\n",
    "from torch import linalg as LA"
   ]
  },
  {
   "cell_type": "markdown",
   "metadata": {
    "id": "Q4wrWIO2FePh"
   },
   "source": [
    "# Define device (GPU or CPU)"
   ]
  },
  {
   "cell_type": "code",
   "execution_count": null,
   "metadata": {
    "colab": {
     "base_uri": "https://localhost:8080/"
    },
    "executionInfo": {
     "elapsed": 19,
     "status": "ok",
     "timestamp": 1641126336861,
     "user": {
      "displayName": "Taiwa Komatsu",
      "photoUrl": "https://lh3.googleusercontent.com/a/default-user=s64",
      "userId": "16056462955964888513"
     },
     "user_tz": -540
    },
    "id": "a7QTL83lD_zl",
    "outputId": "70e82c51-90c2-473a-c7e4-ba9f2a3067ab"
   },
   "outputs": [],
   "source": [
    "use_cuda = torch.cuda.is_available()\n",
    "device = torch.device(\"cuda\" if use_cuda else \"cpu\")\n",
    "print(device)"
   ]
  },
  {
   "cell_type": "markdown",
   "metadata": {
    "id": "8aQ2Hp6GFps6"
   },
   "source": [
    "# Download Tiny ImageNet data"
   ]
  },
  {
   "cell_type": "code",
   "execution_count": null,
   "metadata": {
    "colab": {
     "base_uri": "https://localhost:8080/"
    },
    "executionInfo": {
     "elapsed": 18,
     "status": "ok",
     "timestamp": 1641126336862,
     "user": {
      "displayName": "Taiwa Komatsu",
      "photoUrl": "https://lh3.googleusercontent.com/a/default-user=s64",
      "userId": "16056462955964888513"
     },
     "user_tz": -540
    },
    "id": "ODM241bAD_2w",
    "outputId": "09dc1525-cce4-4d9a-a3c4-a05c6f5e6e28"
   },
   "outputs": [],
   "source": [
    "if 'tiny-imagenet-200' in os.listdir():\n",
    "  shutil.rmtree('tiny-imagenet-200')\n",
    "else:\n",
    "  print('tiny-imagenet-200 not existed')\n",
    "  \n",
    "if 'tiny-imagenet-200.zip' in os.listdir():\n",
    "  os.remove('tiny-imagenet-200.zip')\n",
    "else:\n",
    "  print('tiny-imagenet-200.zip not existed')"
   ]
  },
  {
   "cell_type": "code",
   "execution_count": null,
   "metadata": {
    "colab": {
     "base_uri": "https://localhost:8080/"
    },
    "executionInfo": {
     "elapsed": 24755,
     "status": "ok",
     "timestamp": 1641126361604,
     "user": {
      "displayName": "Taiwa Komatsu",
      "photoUrl": "https://lh3.googleusercontent.com/a/default-user=s64",
      "userId": "16056462955964888513"
     },
     "user_tz": -540
    },
    "id": "PFKeFMB3D_52",
    "outputId": "15469dae-8c9e-4731-ff66-7548ea39f88e"
   },
   "outputs": [],
   "source": [
    "# Download\n",
    "!wget http://cs231n.stanford.edu/tiny-imagenet-200.zip\n",
    "  \n",
    "# Unzip\n",
    "!unzip -qq 'tiny-imagenet-200.zip'"
   ]
  },
  {
   "cell_type": "markdown",
   "metadata": {
    "id": "u5oxTyfJF9p2"
   },
   "source": [
    "# Define directory"
   ]
  },
  {
   "cell_type": "code",
   "execution_count": null,
   "metadata": {
    "executionInfo": {
     "elapsed": 7,
     "status": "ok",
     "timestamp": 1641126361605,
     "user": {
      "displayName": "Taiwa Komatsu",
      "photoUrl": "https://lh3.googleusercontent.com/a/default-user=s64",
      "userId": "16056462955964888513"
     },
     "user_tz": -540
    },
    "id": "uTCYykxWD_8h"
   },
   "outputs": [],
   "source": [
    "# Define main data directory\n",
    "DATA_DIR = 'tiny-imagenet-200' # Original images come in shapes of [3,64,64]\n",
    "\n",
    "# Define training and validation data paths\n",
    "TRAIN_DIR = os.path.join(DATA_DIR, 'train') \n",
    "VALID_DIR = os.path.join(DATA_DIR, 'val')"
   ]
  },
  {
   "cell_type": "markdown",
   "metadata": {
    "id": "QYi9RzdLGBLM"
   },
   "source": [
    "# Create validation labels from val_annotations.txt"
   ]
  },
  {
   "cell_type": "code",
   "execution_count": null,
   "metadata": {
    "colab": {
     "base_uri": "https://localhost:8080/"
    },
    "executionInfo": {
     "elapsed": 6,
     "status": "ok",
     "timestamp": 1641126361605,
     "user": {
      "displayName": "Taiwa Komatsu",
      "photoUrl": "https://lh3.googleusercontent.com/a/default-user=s64",
      "userId": "16056462955964888513"
     },
     "user_tz": -540
    },
    "id": "oB8VQKYYD__W",
    "outputId": "7092ef03-f4bc-4270-dd1e-9de04758d048"
   },
   "outputs": [],
   "source": [
    "val_img_dir = os.path.join(VALID_DIR, 'images')\n",
    "\n",
    "# Open and read val annotations text file\n",
    "fp = open(os.path.join(VALID_DIR, 'val_annotations.txt'), 'r')\n",
    "data = fp.readlines()\n",
    "\n",
    "val_img_dict = {}\n",
    "for line in data:\n",
    "    words = line.split('\\t')\n",
    "    val_img_dict[words[0]] = words[1]\n",
    "fp.close()\n",
    "\n",
    "# Show val_img_dict (first 5)\n",
    "for i, (k, v) in enumerate(val_img_dict.items()):\n",
    "  print(k, \":\", v)\n",
    "  if i == 4:\n",
    "    break"
   ]
  },
  {
   "cell_type": "markdown",
   "metadata": {
    "id": "ci60DC43GMY8"
   },
   "source": [
    "# Create subfolders (if not present)"
   ]
  },
  {
   "cell_type": "code",
   "execution_count": null,
   "metadata": {
    "executionInfo": {
     "elapsed": 488,
     "status": "ok",
     "timestamp": 1641126362089,
     "user": {
      "displayName": "Taiwa Komatsu",
      "photoUrl": "https://lh3.googleusercontent.com/a/default-user=s64",
      "userId": "16056462955964888513"
     },
     "user_tz": -540
    },
    "id": "OzrC-WHiEACR"
   },
   "outputs": [],
   "source": [
    "for img, folder in val_img_dict.items():\n",
    "    newpath = (os.path.join(val_img_dir, folder))\n",
    "    if not os.path.exists(newpath):\n",
    "        os.makedirs(newpath)\n",
    "    if os.path.exists(os.path.join(val_img_dir, img)):\n",
    "        os.rename(os.path.join(val_img_dir, img), os.path.join(newpath, img))"
   ]
  },
  {
   "cell_type": "markdown",
   "metadata": {
    "id": "JUpcRU6kGWps"
   },
   "source": [
    "# Define transformation sequence"
   ]
  },
  {
   "cell_type": "code",
   "execution_count": null,
   "metadata": {
    "executionInfo": {
     "elapsed": 3,
     "status": "ok",
     "timestamp": 1641126362090,
     "user": {
      "displayName": "Taiwa Komatsu",
      "photoUrl": "https://lh3.googleusercontent.com/a/default-user=s64",
      "userId": "16056462955964888513"
     },
     "user_tz": -540
    },
    "id": "FLvVdpgnEAE1"
   },
   "outputs": [],
   "source": [
    "# If not using pre-trained model, normalize with 0.5, 0.5, 0.5 (mean and SD)\n",
    "# If using pre-trained ImageNet, normalize with mean=[0.485, 0.456, 0.406], std=[0.229, 0.224, 0.225])\n",
    "preprocess_transform = T.Compose([\n",
    "                                  T.Resize(256), \n",
    "                                  T.CenterCrop(224), \n",
    "                                  T.RandomHorizontalFlip(),\n",
    "                                  T.ToTensor(),  \n",
    "                                  T.Normalize(mean=[0.485, 0.456, 0.406], std=[0.229, 0.224, 0.225])\n",
    "])\n",
    "\n",
    "preprocess_transform_validation = T.Compose([\n",
    "                                             T.Resize(256), \n",
    "                                             T.CenterCrop(224), \n",
    "                                             T.ToTensor(),  \n",
    "                                             T.Normalize(mean=[0.485, 0.456, 0.406], std=[0.229, 0.224, 0.225])\n",
    "])"
   ]
  },
  {
   "cell_type": "markdown",
   "metadata": {
    "id": "9LpUqCFhG5yv"
   },
   "source": [
    "# Define function to create dataloaders"
   ]
  },
  {
   "cell_type": "code",
   "execution_count": null,
   "metadata": {
    "executionInfo": {
     "elapsed": 2,
     "status": "ok",
     "timestamp": 1641126362090,
     "user": {
      "displayName": "Taiwa Komatsu",
      "photoUrl": "https://lh3.googleusercontent.com/a/default-user=s64",
      "userId": "16056462955964888513"
     },
     "user_tz": -540
    },
    "id": "d-jNLL7QGcm2"
   },
   "outputs": [],
   "source": [
    "def generate_dataset(data, transform):\n",
    "    if transform is None:\n",
    "        dataset = datasets.ImageFolder(data, transform = T.ToTensor())\n",
    "    else:\n",
    "        dataset = datasets.ImageFolder(data, transform = transform)\n",
    "    \n",
    "    return dataset\n",
    "\n",
    "def generate_dataloader(dataset, name):\n",
    "    if use_cuda:\n",
    "        kwargs = {\"pin_memory\": True, \"num_workers\": 1}\n",
    "    else:\n",
    "        kwargs = {}\n",
    "\n",
    "    dataloader = DataLoader(dataset, batch_size = batch_size, shuffle=(name==\"train\"), **kwargs)   \n",
    "\n",
    "    return dataloader"
   ]
  },
  {
   "cell_type": "markdown",
   "metadata": {
    "id": "QMHSZh0aHAyH"
   },
   "source": [
    "# Create dataloader"
   ]
  },
  {
   "cell_type": "code",
   "execution_count": null,
   "metadata": {
    "executionInfo": {
     "elapsed": 642,
     "status": "ok",
     "timestamp": 1641126362730,
     "user": {
      "displayName": "Taiwa Komatsu",
      "photoUrl": "https://lh3.googleusercontent.com/a/default-user=s64",
      "userId": "16056462955964888513"
     },
     "user_tz": -540
    },
    "id": "x_pyl_nhG_5e"
   },
   "outputs": [],
   "source": [
    "# Define batch size for DataLoaders\n",
    "batch_size = 128\n",
    "\n",
    "# Create DataLoader for training data\n",
    "train_dataset = generate_dataset(TRAIN_DIR, preprocess_transform)\n",
    "train_loader = generate_dataloader(train_dataset, \"train\")\n",
    "\n",
    "# Create DataLoader for validation data\n",
    "val_dataset = generate_dataset(val_img_dir, preprocess_transform_validation)\n",
    "val_loader = generate_dataloader(val_dataset, \"validation\")"
   ]
  },
  {
   "cell_type": "markdown",
   "metadata": {
    "id": "rsNjnsORHQKj"
   },
   "source": [
    "# Define model architecture"
   ]
  },
  {
   "cell_type": "code",
   "execution_count": null,
   "metadata": {
    "colab": {
     "base_uri": "https://localhost:8080/",
     "height": 66,
     "referenced_widgets": [
      "da2330359b4549c8abe3e042989e3ba6",
      "8e23554542db458bb7e704255d214270",
      "66c36ecb01984b438359e8b127a7a8a2",
      "6de81fce8100470ea523320f9f732cd4",
      "2b582548e136458094ccc02c878f034a",
      "fc08f87a2efb4f51837a626c4b9e841c",
      "f1903cff7cbc4351855fb656de67db73",
      "a769b0ac2ef94364ab5ee1a8937bcd7b",
      "56f451e1ad8747a29313f5059965f4ef",
      "5b397cb6bf684149934d41a6c4a9b8e1",
      "85e50e7456d34206b4a003634a230d87"
     ]
    },
    "executionInfo": {
     "elapsed": 9682,
     "status": "ok",
     "timestamp": 1641126372410,
     "user": {
      "displayName": "Taiwa Komatsu",
      "photoUrl": "https://lh3.googleusercontent.com/a/default-user=s64",
      "userId": "16056462955964888513"
     },
     "user_tz": -540
    },
    "id": "hWUVLclSHOJ-",
    "outputId": "284501d9-15dd-4ff0-838b-e4126b876972"
   },
   "outputs": [],
   "source": [
    "model = models.resnet18(pretrained = True)\n",
    "\n",
    "#Finetune Final few layers to adjust for tiny imagenet input\n",
    "num_ftrs = model.fc.in_features\n",
    "model.fc = nn.Linear(num_ftrs, 200)\n",
    "\n",
    "# Move model to designated device (Use GPU when on Colab)\n",
    "model = model.to(device)"
   ]
  },
  {
   "cell_type": "markdown",
   "metadata": {
    "id": "vOVuHKkasXEa"
   },
   "source": [
    "# ResNet reconstraction"
   ]
  },
  {
   "cell_type": "code",
   "execution_count": null,
   "metadata": {
    "executionInfo": {
     "elapsed": 14,
     "status": "ok",
     "timestamp": 1641126372410,
     "user": {
      "displayName": "Taiwa Komatsu",
      "photoUrl": "https://lh3.googleusercontent.com/a/default-user=s64",
      "userId": "16056462955964888513"
     },
     "user_tz": -540
    },
    "id": "Rz8w_5sCsWfB"
   },
   "outputs": [],
   "source": [
    "# Create model class\n",
    "class SplittedResNet18(nn.Module):\n",
    "    def __init__(self, resnet18):\n",
    "        super().__init__()\n",
    "        self.cnn = nn.Sequential(*list(resnet18.children())[:-1])\n",
    "        self.flatten = nn.Flatten()\n",
    "        self.fc = resnet18.fc\n",
    "\n",
    "    def forward(self, x: torch.Tensor) -> torch.Tensor:\n",
    "        representation = self.flatten(self.cnn(x))\n",
    "        output = self.fc(representation)\n",
    "        return representation, output\n",
    "\n",
    "# Create model instance\n",
    "splitted_model = SplittedResNet18(model)\n",
    "del model"
   ]
  },
  {
   "cell_type": "markdown",
   "metadata": {
    "id": "IlRu03PwCrUv"
   },
   "source": [
    "# Define loss function"
   ]
  },
  {
   "cell_type": "code",
   "execution_count": null,
   "metadata": {
    "executionInfo": {
     "elapsed": 14,
     "status": "ok",
     "timestamp": 1641126372411,
     "user": {
      "displayName": "Taiwa Komatsu",
      "photoUrl": "https://lh3.googleusercontent.com/a/default-user=s64",
      "userId": "16056462955964888513"
     },
     "user_tz": -540
    },
    "id": "SACpXp_kcBZs"
   },
   "outputs": [],
   "source": [
    "class CrossEntropyOSLoss(nn.Module):\n",
    "    def __init__(self, regularization_param):\n",
    "        super().__init__()\n",
    "        self.Cross_Entropy_Loss = nn.CrossEntropyLoss()\n",
    "        self.alpha = regularization_param\n",
    "\n",
    "    def forward(self, output, representation, target):\n",
    "\n",
    "        # Calculate Cross Entropy Loss value\n",
    "        CEL_value = self.Cross_Entropy_Loss(output, target)\n",
    "\n",
    "        # Calculate constraint for orthogonal features\n",
    "        normalized_representation = F.normalize(representation, p = 2, dim = 1)\n",
    "        OS_value = torch.add(\n",
    "            torch.matmul(torch.t(normalized_representation), normalized_representation), \n",
    "            torch.eye(normalized_representation.size()[1], device = device), \n",
    "            alpha = -1\n",
    "        )\n",
    "        OS_value = self.alpha*LA.norm(OS_value, ord = \"fro\")\n",
    "\n",
    "        return CEL_value + OS_value"
   ]
  },
  {
   "cell_type": "markdown",
   "metadata": {
    "id": "zbd7GKHQd-Hb"
   },
   "source": [
    "# Define hyperparameters and settings"
   ]
  },
  {
   "cell_type": "code",
   "execution_count": null,
   "metadata": {
    "executionInfo": {
     "elapsed": 13,
     "status": "ok",
     "timestamp": 1641126372411,
     "user": {
      "displayName": "Taiwa Komatsu",
      "photoUrl": "https://lh3.googleusercontent.com/a/default-user=s64",
      "userId": "16056462955964888513"
     },
     "user_tz": -540
    },
    "id": "F-Y9vcZHRp8R"
   },
   "outputs": [],
   "source": [
    "lr = 0.001  # Learning rate\n",
    "momentum = 0.9 # Momentum\n",
    "num_epochs = 30  # Number of epochs\n",
    "log_interval = 500  # Number of iterations before logging\n",
    "step_size = 7 # for lr_scheduler\n",
    "gamma = 0.1 # for lr_scheduler\n",
    "alpha = 0.01 # for CrossEntropyOSLoss\n",
    "\n",
    "# Set loss function\n",
    "loss_func = CrossEntropyOSLoss(alpha)\n",
    "\n",
    "# Set optimizer\n",
    "optimizer = optim.SGD(splitted_model.parameters(), lr = lr, momentum = momentum)\n",
    "scheduler = lr_scheduler.StepLR(optimizer, step_size = step_size, gamma = gamma)"
   ]
  },
  {
   "cell_type": "markdown",
   "metadata": {
    "id": "7CK-0ualeVE2"
   },
   "source": [
    "# Trainning"
   ]
  },
  {
   "cell_type": "code",
   "execution_count": null,
   "metadata": {
    "colab": {
     "base_uri": "https://localhost:8080/"
    },
    "executionInfo": {
     "elapsed": 8203696,
     "status": "ok",
     "timestamp": 1641134576094,
     "user": {
      "displayName": "Taiwa Komatsu",
      "photoUrl": "https://lh3.googleusercontent.com/a/default-user=s64",
      "userId": "16056462955964888513"
     },
     "user_tz": -540
    },
    "id": "Ch2IgOJURqBl",
    "outputId": "b81b2b7f-47a7-4060-8019-95101453d937"
   },
   "outputs": [],
   "source": [
    "%%time\n",
    "\n",
    "loss_list = []\n",
    "val_accuracy_list = []\n",
    "best_accuracy = 0\n",
    "model_name = 'ResNet18_OS_' + str(alpha) + '.pth'\n",
    "\n",
    "for epoch in range(1, num_epochs+1):\n",
    "    \n",
    "    # Training step\n",
    "    splitted_model.train()\n",
    "    for i, (input_images, labels) in enumerate(train_loader):\n",
    "\n",
    "        input_images = input_images.to(device)\n",
    "        labels = labels.to(device)\n",
    "\n",
    "        representation, output = splitted_model(input_images)\n",
    "        loss = loss_func(output, representation, labels)\n",
    "        \n",
    "        optimizer.zero_grad()\n",
    "        loss.backward()\n",
    "        optimizer.step()\n",
    "\n",
    "        loss_list.append(loss.detach())\n",
    "      \n",
    "    scheduler.step()\n",
    "\n",
    "    # Validation step\n",
    "    splitted_model.eval()\n",
    "    correct = 0\n",
    "    total = 0\n",
    "\n",
    "    with torch.no_grad():\n",
    "        for input_images, labels in val_loader:\n",
    "\n",
    "            input_images = input_images.to(device)\n",
    "            labels = labels.to(device)\n",
    "\n",
    "            _, predicted_values = splitted_model(input_images)\n",
    "            _, predicted_labels = torch.max(predicted_values.data, 1)\n",
    "\n",
    "            total += labels.shape[0]\n",
    "            correct += (predicted_labels == labels).sum().item()\n",
    "\n",
    "    current_accuracy = (correct/total)*100\n",
    "    val_accuracy_list.append(current_accuracy)\n",
    "    print(\"Accuracy of epoch\", epoch, \"is\", f\"{current_accuracy:.3f}%\")\n",
    "\n",
    "    # Save model\n",
    "    if current_accuracy > best_accuracy:\n",
    "        torch.save(splitted_model.state_dict(), model_name)\n",
    "        best_accuracy = current_accuracy\n",
    "        print('Model of epoch', epoch, 'was saved.')\n",
    "    else:\n",
    "        print('Model was not saved.')\n",
    "\n",
    "print(\" --------------- Train complete ---------------\")"
   ]
  },
  {
   "cell_type": "markdown",
   "metadata": {
    "id": "vqhBa0c3jKAf"
   },
   "source": [
    "# Plot loss values"
   ]
  },
  {
   "cell_type": "code",
   "execution_count": null,
   "metadata": {
    "colab": {
     "base_uri": "https://localhost:8080/",
     "height": 279
    },
    "executionInfo": {
     "elapsed": 1251,
     "status": "ok",
     "timestamp": 1641134576877,
     "user": {
      "displayName": "Taiwa Komatsu",
      "photoUrl": "https://lh3.googleusercontent.com/a/default-user=s64",
      "userId": "16056462955964888513"
     },
     "user_tz": -540
    },
    "id": "hB6CgFpsh8A9",
    "outputId": "46fbc81f-645b-4075-c6e2-2cd85ee17b92"
   },
   "outputs": [],
   "source": [
    "fig, ax = plt.subplots(1, 2, figsize = (12, 4))\n",
    "\n",
    "ax[0].plot(loss_list)\n",
    "ax[0].set_xlabel(\"Iteration\")\n",
    "ax[0].set_ylabel('Training loss value')\n",
    "\n",
    "ax[1].plot(val_accuracy_list)\n",
    "ax[1].set_xlabel(\"Epoch\")\n",
    "ax[1].set_ylabel('Validation accuracy')\n",
    "\n",
    "plt.show()"
   ]
  },
  {
   "cell_type": "markdown",
   "metadata": {
    "id": "V1HioCX0jTBd"
   },
   "source": [
    "# Save model to Google Drive "
   ]
  },
  {
   "cell_type": "code",
   "execution_count": null,
   "metadata": {
    "executionInfo": {
     "elapsed": 23,
     "status": "ok",
     "timestamp": 1641134576878,
     "user": {
      "displayName": "Taiwa Komatsu",
      "photoUrl": "https://lh3.googleusercontent.com/a/default-user=s64",
      "userId": "16056462955964888513"
     },
     "user_tz": -540
    },
    "id": "HOO5LdEvjPXP"
   },
   "outputs": [],
   "source": [
    "shutil.move(model_name, '/content/drive/MyDrive/work/orthgonal_constraint/' + model_name)"
   ]
  }
 ],
 "metadata": {
  "accelerator": "GPU",
  "colab": {
   "authorship_tag": "ABX9TyOzruGmAzbbEyomBLc8Vzlx",
   "collapsed_sections": [],
   "name": "ResNet_orthgonal_constraint.ipynb",
   "provenance": []
  },
  "kernelspec": {
   "display_name": "Python 3",
   "language": "python",
   "name": "python3"
  },
  "language_info": {
   "codemirror_mode": {
    "name": "ipython",
    "version": 3
   },
   "file_extension": ".py",
   "mimetype": "text/x-python",
   "name": "python",
   "nbconvert_exporter": "python",
   "pygments_lexer": "ipython3",
   "version": "3.7.3"
  },
  "widgets": {
   "application/vnd.jupyter.widget-state+json": {
    "2b582548e136458094ccc02c878f034a": {
     "model_module": "@jupyter-widgets/controls",
     "model_module_version": "1.5.0",
     "model_name": "HTMLModel",
     "state": {
      "_dom_classes": [],
      "_model_module": "@jupyter-widgets/controls",
      "_model_module_version": "1.5.0",
      "_model_name": "HTMLModel",
      "_view_count": null,
      "_view_module": "@jupyter-widgets/controls",
      "_view_module_version": "1.5.0",
      "_view_name": "HTMLView",
      "description": "",
      "description_tooltip": null,
      "layout": "IPY_MODEL_85e50e7456d34206b4a003634a230d87",
      "placeholder": "​",
      "style": "IPY_MODEL_5b397cb6bf684149934d41a6c4a9b8e1",
      "value": " 44.7M/44.7M [00:00&lt;00:00, 96.6MB/s]"
     }
    },
    "56f451e1ad8747a29313f5059965f4ef": {
     "model_module": "@jupyter-widgets/base",
     "model_module_version": "1.2.0",
     "model_name": "LayoutModel",
     "state": {
      "_model_module": "@jupyter-widgets/base",
      "_model_module_version": "1.2.0",
      "_model_name": "LayoutModel",
      "_view_count": null,
      "_view_module": "@jupyter-widgets/base",
      "_view_module_version": "1.2.0",
      "_view_name": "LayoutView",
      "align_content": null,
      "align_items": null,
      "align_self": null,
      "border": null,
      "bottom": null,
      "display": null,
      "flex": null,
      "flex_flow": null,
      "grid_area": null,
      "grid_auto_columns": null,
      "grid_auto_flow": null,
      "grid_auto_rows": null,
      "grid_column": null,
      "grid_gap": null,
      "grid_row": null,
      "grid_template_areas": null,
      "grid_template_columns": null,
      "grid_template_rows": null,
      "height": null,
      "justify_content": null,
      "justify_items": null,
      "left": null,
      "margin": null,
      "max_height": null,
      "max_width": null,
      "min_height": null,
      "min_width": null,
      "object_fit": null,
      "object_position": null,
      "order": null,
      "overflow": null,
      "overflow_x": null,
      "overflow_y": null,
      "padding": null,
      "right": null,
      "top": null,
      "visibility": null,
      "width": null
     }
    },
    "5b397cb6bf684149934d41a6c4a9b8e1": {
     "model_module": "@jupyter-widgets/controls",
     "model_module_version": "1.5.0",
     "model_name": "DescriptionStyleModel",
     "state": {
      "_model_module": "@jupyter-widgets/controls",
      "_model_module_version": "1.5.0",
      "_model_name": "DescriptionStyleModel",
      "_view_count": null,
      "_view_module": "@jupyter-widgets/base",
      "_view_module_version": "1.2.0",
      "_view_name": "StyleView",
      "description_width": ""
     }
    },
    "66c36ecb01984b438359e8b127a7a8a2": {
     "model_module": "@jupyter-widgets/controls",
     "model_module_version": "1.5.0",
     "model_name": "HTMLModel",
     "state": {
      "_dom_classes": [],
      "_model_module": "@jupyter-widgets/controls",
      "_model_module_version": "1.5.0",
      "_model_name": "HTMLModel",
      "_view_count": null,
      "_view_module": "@jupyter-widgets/controls",
      "_view_module_version": "1.5.0",
      "_view_name": "HTMLView",
      "description": "",
      "description_tooltip": null,
      "layout": "IPY_MODEL_f1903cff7cbc4351855fb656de67db73",
      "placeholder": "​",
      "style": "IPY_MODEL_fc08f87a2efb4f51837a626c4b9e841c",
      "value": "100%"
     }
    },
    "6de81fce8100470ea523320f9f732cd4": {
     "model_module": "@jupyter-widgets/controls",
     "model_module_version": "1.5.0",
     "model_name": "FloatProgressModel",
     "state": {
      "_dom_classes": [],
      "_model_module": "@jupyter-widgets/controls",
      "_model_module_version": "1.5.0",
      "_model_name": "FloatProgressModel",
      "_view_count": null,
      "_view_module": "@jupyter-widgets/controls",
      "_view_module_version": "1.5.0",
      "_view_name": "ProgressView",
      "bar_style": "success",
      "description": "",
      "description_tooltip": null,
      "layout": "IPY_MODEL_56f451e1ad8747a29313f5059965f4ef",
      "max": 46830571,
      "min": 0,
      "orientation": "horizontal",
      "style": "IPY_MODEL_a769b0ac2ef94364ab5ee1a8937bcd7b",
      "value": 46830571
     }
    },
    "85e50e7456d34206b4a003634a230d87": {
     "model_module": "@jupyter-widgets/base",
     "model_module_version": "1.2.0",
     "model_name": "LayoutModel",
     "state": {
      "_model_module": "@jupyter-widgets/base",
      "_model_module_version": "1.2.0",
      "_model_name": "LayoutModel",
      "_view_count": null,
      "_view_module": "@jupyter-widgets/base",
      "_view_module_version": "1.2.0",
      "_view_name": "LayoutView",
      "align_content": null,
      "align_items": null,
      "align_self": null,
      "border": null,
      "bottom": null,
      "display": null,
      "flex": null,
      "flex_flow": null,
      "grid_area": null,
      "grid_auto_columns": null,
      "grid_auto_flow": null,
      "grid_auto_rows": null,
      "grid_column": null,
      "grid_gap": null,
      "grid_row": null,
      "grid_template_areas": null,
      "grid_template_columns": null,
      "grid_template_rows": null,
      "height": null,
      "justify_content": null,
      "justify_items": null,
      "left": null,
      "margin": null,
      "max_height": null,
      "max_width": null,
      "min_height": null,
      "min_width": null,
      "object_fit": null,
      "object_position": null,
      "order": null,
      "overflow": null,
      "overflow_x": null,
      "overflow_y": null,
      "padding": null,
      "right": null,
      "top": null,
      "visibility": null,
      "width": null
     }
    },
    "8e23554542db458bb7e704255d214270": {
     "model_module": "@jupyter-widgets/base",
     "model_module_version": "1.2.0",
     "model_name": "LayoutModel",
     "state": {
      "_model_module": "@jupyter-widgets/base",
      "_model_module_version": "1.2.0",
      "_model_name": "LayoutModel",
      "_view_count": null,
      "_view_module": "@jupyter-widgets/base",
      "_view_module_version": "1.2.0",
      "_view_name": "LayoutView",
      "align_content": null,
      "align_items": null,
      "align_self": null,
      "border": null,
      "bottom": null,
      "display": null,
      "flex": null,
      "flex_flow": null,
      "grid_area": null,
      "grid_auto_columns": null,
      "grid_auto_flow": null,
      "grid_auto_rows": null,
      "grid_column": null,
      "grid_gap": null,
      "grid_row": null,
      "grid_template_areas": null,
      "grid_template_columns": null,
      "grid_template_rows": null,
      "height": null,
      "justify_content": null,
      "justify_items": null,
      "left": null,
      "margin": null,
      "max_height": null,
      "max_width": null,
      "min_height": null,
      "min_width": null,
      "object_fit": null,
      "object_position": null,
      "order": null,
      "overflow": null,
      "overflow_x": null,
      "overflow_y": null,
      "padding": null,
      "right": null,
      "top": null,
      "visibility": null,
      "width": null
     }
    },
    "a769b0ac2ef94364ab5ee1a8937bcd7b": {
     "model_module": "@jupyter-widgets/controls",
     "model_module_version": "1.5.0",
     "model_name": "ProgressStyleModel",
     "state": {
      "_model_module": "@jupyter-widgets/controls",
      "_model_module_version": "1.5.0",
      "_model_name": "ProgressStyleModel",
      "_view_count": null,
      "_view_module": "@jupyter-widgets/base",
      "_view_module_version": "1.2.0",
      "_view_name": "StyleView",
      "bar_color": null,
      "description_width": ""
     }
    },
    "da2330359b4549c8abe3e042989e3ba6": {
     "model_module": "@jupyter-widgets/controls",
     "model_module_version": "1.5.0",
     "model_name": "HBoxModel",
     "state": {
      "_dom_classes": [],
      "_model_module": "@jupyter-widgets/controls",
      "_model_module_version": "1.5.0",
      "_model_name": "HBoxModel",
      "_view_count": null,
      "_view_module": "@jupyter-widgets/controls",
      "_view_module_version": "1.5.0",
      "_view_name": "HBoxView",
      "box_style": "",
      "children": [
       "IPY_MODEL_66c36ecb01984b438359e8b127a7a8a2",
       "IPY_MODEL_6de81fce8100470ea523320f9f732cd4",
       "IPY_MODEL_2b582548e136458094ccc02c878f034a"
      ],
      "layout": "IPY_MODEL_8e23554542db458bb7e704255d214270"
     }
    },
    "f1903cff7cbc4351855fb656de67db73": {
     "model_module": "@jupyter-widgets/base",
     "model_module_version": "1.2.0",
     "model_name": "LayoutModel",
     "state": {
      "_model_module": "@jupyter-widgets/base",
      "_model_module_version": "1.2.0",
      "_model_name": "LayoutModel",
      "_view_count": null,
      "_view_module": "@jupyter-widgets/base",
      "_view_module_version": "1.2.0",
      "_view_name": "LayoutView",
      "align_content": null,
      "align_items": null,
      "align_self": null,
      "border": null,
      "bottom": null,
      "display": null,
      "flex": null,
      "flex_flow": null,
      "grid_area": null,
      "grid_auto_columns": null,
      "grid_auto_flow": null,
      "grid_auto_rows": null,
      "grid_column": null,
      "grid_gap": null,
      "grid_row": null,
      "grid_template_areas": null,
      "grid_template_columns": null,
      "grid_template_rows": null,
      "height": null,
      "justify_content": null,
      "justify_items": null,
      "left": null,
      "margin": null,
      "max_height": null,
      "max_width": null,
      "min_height": null,
      "min_width": null,
      "object_fit": null,
      "object_position": null,
      "order": null,
      "overflow": null,
      "overflow_x": null,
      "overflow_y": null,
      "padding": null,
      "right": null,
      "top": null,
      "visibility": null,
      "width": null
     }
    },
    "fc08f87a2efb4f51837a626c4b9e841c": {
     "model_module": "@jupyter-widgets/controls",
     "model_module_version": "1.5.0",
     "model_name": "DescriptionStyleModel",
     "state": {
      "_model_module": "@jupyter-widgets/controls",
      "_model_module_version": "1.5.0",
      "_model_name": "DescriptionStyleModel",
      "_view_count": null,
      "_view_module": "@jupyter-widgets/base",
      "_view_module_version": "1.2.0",
      "_view_name": "StyleView",
      "description_width": ""
     }
    }
   }
  }
 },
 "nbformat": 4,
 "nbformat_minor": 4
}
